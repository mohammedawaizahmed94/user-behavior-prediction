{
 "cells": [
  {
   "cell_type": "code",
   "execution_count": null,
   "id": "32c80fb1-193d-4e44-9412-805081133aeb",
   "metadata": {},
   "outputs": [],
   "source": [
    "import numpy as np\n",
    "import pandas as pd\n",
    "from sklearn.model_selection import train_test_split\n",
    "from sklearn.ensemble import RandomForestClassifier\n",
    "from sklearn.preprocessing import StandardScaler\n",
    "from sklearn.metrics import accuracy_score, classification_report\n",
    "\n",
    "# Step 1: Generate synthetic data (1000 users)\n",
    "np.random.seed(42)\n",
    "n = 1000\n",
    "\n",
    "data = {\n",
    "    'Administrative': np.random.randint(0, 5, n),\n",
    "    'Administrative_Duration': np.random.uniform(0, 200, n),\n",
    "    'Informational': np.random.randint(0, 5, n),\n",
    "    'Informational_Duration': np.random.uniform(0, 100, n),\n",
    "    'ProductRelated': np.random.randint(1, 50, n),\n",
    "    'ProductRelated_Duration': np.random.uniform(10, 3000, n),\n",
    "    'BounceRates': np.random.uniform(0.01, 0.2, n),\n",
    "    'ExitRates': np.random.uniform(0.01, 0.3, n),\n",
    "    'PageValues': np.random.uniform(0, 50, n),\n",
    "    'SpecialDay': np.random.uniform(0, 1, n),\n",
    "}\n",
    "\n",
    "# Step 2: Create a target variable (simulate logic)\n",
    "df = pd.DataFrame(data)\n",
    "df['Revenue'] = ((df['PageValues'] > 20) & (df['ProductRelated_Duration'] > 500)).astype(int)\n",
    "\n",
    "# Step 3: Split features and target\n",
    "X = df.drop('Revenue', axis=1)\n",
    "y = df['Revenue']\n",
    "\n",
    "# Step 4: Preprocessing\n",
    "scaler = StandardScaler()\n",
    "X_scaled = scaler.fit_transform(X)\n",
    "\n",
    "# Step 5: Split data\n",
    "X_train, X_test, y_train, y_test = train_test_split(X_scaled, y, test_size=0.2, random_state=1)\n",
    "\n",
    "# Step 6: Train model\n",
    "model = RandomForestClassifier(n_estimators=100, random_state=1)\n",
    "model.fit(X_train, y_train)\n",
    "\n",
    "# Step 7: Evaluate\n",
    "y_pred = model.predict(X_test)\n",
    "print(\"Accuracy:\", accuracy_score(y_test, y_pred))\n",
    "print(\"\\nClassification Report:\\n\", classification_report(y_test, y_pred))\n",
    "\n",
    "# Step 8: Predict on new user behavior\n",
    "sample = np.array([[1, 50, 0, 10, 30, 1800, 0.05, 0.1, 25, 0.3]])\n",
    "sample_scaled = scaler.transform(sample)\n",
    "print(\"New Customer Purchase Prediction:\", model.predict(sample_scaled)[0])"
   ]
  }
 ],
 "metadata": {
  "kernelspec": {
   "display_name": "Python 3 (ipykernel)",
   "language": "python",
   "name": "python3"
  },
  "language_info": {
   "codemirror_mode": {
    "name": "ipython",
    "version": 3
   },
   "file_extension": ".py",
   "mimetype": "text/x-python",
   "name": "python",
   "nbconvert_exporter": "python",
   "pygments_lexer": "ipython3",
   "version": "3.12.8"
  }
 },
 "nbformat": 4,
 "nbformat_minor": 5
}
